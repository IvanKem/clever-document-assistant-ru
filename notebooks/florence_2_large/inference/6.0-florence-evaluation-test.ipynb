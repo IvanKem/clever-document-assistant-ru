{
 "cells": [
  {
   "cell_type": "code",
   "execution_count": null,
   "id": "4c4da65f-5aea-493b-83c3-fbbdc34dab25",
   "metadata": {
    "vscode": {
     "languageId": "python"
    }
   },
   "outputs": [],
   "source": [
    "import os\n",
    "from torch.utils.data import DataLoader\n",
    "from tqdm import tqdm\n",
    "import requests\n",
    "import torch\n",
    "from PIL import Image\n",
    "import json\n",
    "import numpy as np\n",
    "from torch.utils.data import Dataset\n",
    "import pandas as pd\n",
    "import matplotlib.pyplot as plt\n",
    "from torch.optim import AdamW\n",
    "import transformers\n",
    "from transformers import AutoModelForCausalLM,AutoProcessor,get_scheduler"
   ]
  },
  {
   "cell_type": "code",
   "execution_count": null,
   "id": "0679cc1d-4138-49ed-89cd-fc48e9297904",
   "metadata": {
    "vscode": {
     "languageId": "python"
    }
   },
   "outputs": [],
   "source": [
    "model_dtype = next(model.parameters()).dtype"
   ]
  },
  {
   "cell_type": "code",
   "execution_count": null,
   "id": "3b286ecd-02aa-4ee9-ba6c-7464b1e7cd01",
   "metadata": {
    "vscode": {
     "languageId": "python"
    }
   },
   "outputs": [],
   "source": [
    "model_id = \"microsoft/Florence-2-large-ft\"\n",
    "device = \"cuda:0\" if torch.cuda.is_available() else \"cpu\"\n",
    "model = AutoModelForCausalLM.from_pretrained(\n",
    "    model_id,\n",
    "    trust_remote_code=True,\n",
    ").eval().to(device)\n",
    "\n",
    "\n",
    "processor = AutoProcessor.from_pretrained(model_id, trust_remote_code=True)\n",
    "image = Image.open(\"/home/jupyter/project/real_test/777.jpg\")\n",
    "\n",
    "def run_example(task_prompt, text_input=None):\n",
    "    if text_input is None:\n",
    "        prompt = task_prompt\n",
    "    else:\n",
    "        prompt = task_prompt + text_input\n",
    "\n",
    "    inputs = processor(text=prompt, images=image, return_tensors=\"pt\")\n",
    "    \n",
    "    inputs = {\n",
    "        k: v.to(device, dtype=model.dtype if k == \"pixel_values\" else None)\n",
    "        for k, v in inputs.items()\n",
    "    }\n",
    "\n",
    "    generated_ids = model.generate(\n",
    "        input_ids=inputs[\"input_ids\"],\n",
    "        pixel_values=inputs[\"pixel_values\"],\n",
    "        max_new_tokens=1024,\n",
    "        early_stopping=False,\n",
    "        do_sample=False,\n",
    "        num_beams=3,\n",
    "    )\n",
    "\n",
    "    generated_text = processor.batch_decode(generated_ids, skip_special_tokens=False)[0]\n",
    "    parsed_answer = processor.post_process_generation(\n",
    "        generated_text,\n",
    "        task=task_prompt,\n",
    "        image_size=(image.width, image.height)\n",
    "    )\n",
    "    return parsed_answer\n",
    "\n",
    "task_prompt = '<OCR>'\n",
    "result = run_example(task_prompt)\n",
    "print(result[\"<OCR>\"])"
   ]
  },
  {
   "cell_type": "code",
   "execution_count": null,
   "id": "1fd23a44-9206-4d8e-bdaf-993e88b6e02d",
   "metadata": {
    "vscode": {
     "languageId": "python"
    }
   },
   "outputs": [],
   "source": [
    "\n",
    "model_path = \"/home/jupyter/project/modelFinal_checkpoints_epoch5\"\n",
    "device = \"cuda:0\" if torch.cuda.is_available() else \"cpu\"\n",
    "\n",
    "model = AutoModelForCausalLM.from_pretrained(\n",
    "    model_path,\n",
    "    trust_remote_code=True,\n",
    ").eval().to(device)\n",
    "\n",
    "\n",
    "processor = AutoProcessor.from_pretrained(model_path, trust_remote_code=True)\n",
    "image = Image.open(\"/home/jupyter/project/real_test/777.jpg\")\n",
    "\n",
    "def run_example(task_prompt, text_input=None):\n",
    "    if text_input is None:\n",
    "        prompt = task_prompt\n",
    "    else:\n",
    "        prompt = task_prompt + text_input\n",
    "\n",
    "    inputs = processor(text=prompt, images=image, return_tensors=\"pt\")\n",
    "    \n",
    "    inputs = {\n",
    "        k: v.to(device, dtype=model.dtype if k == \"pixel_values\" else None)\n",
    "        for k, v in inputs.items()\n",
    "    }\n",
    "\n",
    "    generated_ids = model.generate(\n",
    "        input_ids=inputs[\"input_ids\"],\n",
    "        pixel_values=inputs[\"pixel_values\"],\n",
    "        max_new_tokens=1024,\n",
    "        early_stopping=False,\n",
    "        do_sample=False,\n",
    "        num_beams=3,\n",
    "    )\n",
    "\n",
    "    generated_text = processor.batch_decode(generated_ids, skip_special_tokens=False)[0]\n",
    "    parsed_answer = processor.post_process_generation(\n",
    "        generated_text,\n",
    "        task=task_prompt,\n",
    "        image_size=(image.width, image.height)\n",
    "    )\n",
    "    return parsed_answer\n",
    "task_prompt = '<OCR>'\n",
    "result = run_example(task_prompt)\n",
    "\n",
    "print(result[\"<OCR>\"])"
   ]
  }
 ],
 "metadata": {
  "kernelspec": {
   "display_name": "",
   "name": ""
  },
  "language_info": {
   "name": ""
  }
 },
 "nbformat": 4,
 "nbformat_minor": 5
}
